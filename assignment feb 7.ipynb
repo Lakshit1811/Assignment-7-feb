{
 "cells": [
  {
   "cell_type": "code",
   "execution_count": 1,
   "id": "cd67b250-de3a-4cbf-b82a-14df58cfdc01",
   "metadata": {},
   "outputs": [
    {
     "name": "stdout",
     "output_type": "stream",
     "text": [
      "Invalid Password\n"
     ]
    }
   ],
   "source": [
    "def validate_password(password):\n",
    "    upper_count = 0\n",
    "    lower_count = 0\n",
    "    num_count = 0\n",
    "    special_count = 0\n",
    "    for char in password:\n",
    "        if char.isupper():\n",
    "            upper_count += 1\n",
    "        elif char.islower():\n",
    "            lower_count += 1\n",
    "        elif char.isdigit():\n",
    "            num_count += 1\n",
    "        elif not char.isalnum():\n",
    "            special_count += 1\n",
    "    if upper_count >= 2 and lower_count >= 2 and num_count >= 1 and special_count >= 3 and len(password) == 10:\n",
    "        return \"Valid Password\"\n",
    "    else:\n",
    "        return \"Invalid Password\"\n",
    "\n",
    "password = \"passWorD#1#\"\n",
    "print(validate_password(password))"
   ]
  },
  {
   "cell_type": "raw",
   "id": "7e7fd5b9-f7e4-4591-bfea-3c3f0a264016",
   "metadata": {},
   "source": [
    "Check if the string starts with a particular letter"
   ]
  },
  {
   "cell_type": "code",
   "execution_count": 2,
   "id": "17eb138f-75cf-40dc-bf34-93ba30ed1d70",
   "metadata": {},
   "outputs": [
    {
     "name": "stdout",
     "output_type": "stream",
     "text": [
      "['banana']\n"
     ]
    }
   ],
   "source": [
    "def starts_with(string, letter):\n",
    "    return string[0] == letter\n",
    "\n",
    "string_list = ['apple', 'banana', 'cherry']\n",
    "filtered_list = filter(lambda x: starts_with(x, 'b'), string_list)\n",
    "print(list(filtered_list))"
   ]
  },
  {
   "cell_type": "raw",
   "id": "822d2b45-f170-47a8-802b-0cdbf8dea228",
   "metadata": {},
   "source": [
    "Check if the string is numeric"
   ]
  },
  {
   "cell_type": "code",
   "execution_count": 3,
   "id": "f2e78f89-35a9-46dd-8629-c9c5cb8eca19",
   "metadata": {},
   "outputs": [
    {
     "name": "stdout",
     "output_type": "stream",
     "text": [
      "['123', '456']\n"
     ]
    }
   ],
   "source": [
    "def is_numeric(string):\n",
    "    return string.isdigit()\n",
    "\n",
    "string_list = ['123', '456', 'abc']\n",
    "filtered_list = filter(is_numeric, string_list)\n",
    "print(list(filtered_list))"
   ]
  },
  {
   "cell_type": "raw",
   "id": "4e9a1282-6036-4cf8-8d88-e70e96bc68c1",
   "metadata": {},
   "source": [
    "Sort a list of tuples having fruit names and their quantity"
   ]
  },
  {
   "cell_type": "code",
   "execution_count": 4,
   "id": "656fcd07-bffe-4b3a-9050-fb0e81674a8e",
   "metadata": {},
   "outputs": [
    {
     "name": "stdout",
     "output_type": "stream",
     "text": [
      "[('orange', 80), ('mango', 99), ('grapes', 1000)]\n"
     ]
    }
   ],
   "source": [
    "fruits = [(\"mango\",99),(\"orange\",80), (\"grapes\", 1000)]\n",
    "sorted_fruits = sorted(fruits, key=lambda x: x[1])\n",
    "print(sorted_fruits)"
   ]
  },
  {
   "cell_type": "raw",
   "id": "a0b406c6-6e36-4ffc-9c74-de03abd8a0a0",
   "metadata": {},
   "source": [
    "Find the squares of numbers from 1 to 10"
   ]
  },
  {
   "cell_type": "code",
   "execution_count": 5,
   "id": "1156abdc-a4ce-4a38-ad6a-419d38a1b1dd",
   "metadata": {},
   "outputs": [
    {
     "name": "stdout",
     "output_type": "stream",
     "text": [
      "[1, 4, 9, 16, 25, 36, 49, 64, 81, 100]\n"
     ]
    }
   ],
   "source": [
    "squared_numbers = list(map(lambda x: x**2, range(1, 11)))\n",
    "print(squared_numbers)"
   ]
  },
  {
   "cell_type": "raw",
   "id": "0ecd965d-4ce9-465b-bdb8-18e27e98e0e5",
   "metadata": {},
   "source": [
    "Find the cube root of numbers from 1 to 10"
   ]
  },
  {
   "cell_type": "code",
   "execution_count": 6,
   "id": "b343c8e5-41f4-4478-a25c-03696d85bd82",
   "metadata": {},
   "outputs": [
    {
     "name": "stdout",
     "output_type": "stream",
     "text": [
      "[1.0, 1.2599210498948732, 1.4422495703074083, 1.5874010519681994, 1.7099759466766968, 1.8171205928321397, 1.912931182772389, 2.0, 2.080083823051904, 2.154434690031884]\n"
     ]
    }
   ],
   "source": [
    "import math\n",
    "cuberoot_numbers = list(map(lambda x: math.pow(x, 1/3), range(1, 11)))\n",
    "print(cuberoot_numbers)"
   ]
  },
  {
   "cell_type": "raw",
   "id": "929bca82-7761-46e4-847a-664f03b40a53",
   "metadata": {},
   "source": [
    "Check if a given number is even"
   ]
  },
  {
   "cell_type": "code",
   "execution_count": 7,
   "id": "9cf08b3c-2429-4165-b68b-6d7e840cd188",
   "metadata": {},
   "outputs": [
    {
     "name": "stdout",
     "output_type": "stream",
     "text": [
      "[2, 4, 6, 8, 10]\n"
     ]
    }
   ],
   "source": [
    "def is_even(num):\n",
    "    return num % 2 == 0\n",
    "\n",
    "even_numbers = list(filter(is_even, range(1, 11)))\n",
    "print(even_numbers)"
   ]
  },
  {
   "cell_type": "raw",
   "id": "7b215819-70a7-4253-907f-047cd8bc277b",
   "metadata": {},
   "source": [
    "Filter odd numbers from the given list"
   ]
  },
  {
   "cell_type": "code",
   "execution_count": 8,
   "id": "9c1a5c23-33bc-4937-8d15-aee997360614",
   "metadata": {},
   "outputs": [
    {
     "name": "stdout",
     "output_type": "stream",
     "text": [
      "[1, 3, 5, 7, 9]\n"
     ]
    }
   ],
   "source": [
    "odd_numbers = list(filter(lambda x: x % 2 != 0, range(1, 11)))\n",
    "print(odd_numbers)"
   ]
  },
  {
   "cell_type": "raw",
   "id": "9a4f5a3a-fe12-45a9-bc3a-6364f533fb4f",
   "metadata": {},
   "source": [
    "Sort a list of integers into positive and negative integers lists"
   ]
  },
  {
   "cell_type": "code",
   "execution_count": 9,
   "id": "f5c1b624-be49-4689-aef5-a19a2db6a0e3",
   "metadata": {},
   "outputs": [
    {
     "name": "stdout",
     "output_type": "stream",
     "text": [
      "Positive numbers: [1, 2, 3, 4, 5, 6, 0]\n",
      "Negative numbers: [-1, -2, -3, -4, -5]\n"
     ]
    }
   ],
   "source": [
    "numbers = [1, 2, 3, 4, 5, 6, -1, -2, -3, -4, -5, 0]\n",
    "\n",
    "positive_numbers = list(filter(lambda x: x >= 0, numbers))\n",
    "negative_numbers = list(filter(lambda x: x < 0, numbers))\n",
    "\n",
    "print(\"Positive numbers:\", positive_numbers)\n",
    "print(\"Negative numbers:\", negative_numbers)\n",
    "# Positive numbers: [1, 2, 3, 4, 5, 6"
   ]
  },
  {
   "cell_type": "code",
   "execution_count": null,
   "id": "71d8d695-dbc0-4d3a-9a86-9d6bdfaefa4a",
   "metadata": {},
   "outputs": [],
   "source": []
  }
 ],
 "metadata": {
  "kernelspec": {
   "display_name": "Python 3 (ipykernel)",
   "language": "python",
   "name": "python3"
  },
  "language_info": {
   "codemirror_mode": {
    "name": "ipython",
    "version": 3
   },
   "file_extension": ".py",
   "mimetype": "text/x-python",
   "name": "python",
   "nbconvert_exporter": "python",
   "pygments_lexer": "ipython3",
   "version": "3.10.8"
  }
 },
 "nbformat": 4,
 "nbformat_minor": 5
}
